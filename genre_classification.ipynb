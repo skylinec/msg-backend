{
 "cells": [
  {
   "cell_type": "code",
   "execution_count": 33,
   "metadata": {},
   "outputs": [],
   "source": [
    "comparisons_to_make = [\n",
    "        {\n",
    "            \"type\": \"centroid\",\n",
    "            \"tolerance\": -2,\n",
    "            \"colour\": \"#DE3C1A\"\n",
    "        },\n",
    "        {\n",
    "            \"type\": \"bandwidth\",\n",
    "            \"tolerance\": -2\n",
    "        },\n",
    "        {\n",
    "            \"type\": \"rolloff\",\n",
    "            \"tolerance\": -2\n",
    "        },\n",
    "        {\n",
    "            \"type\": \"tempo\",\n",
    "            \"tolerance\": 0\n",
    "        },\n",
    "    ]"
   ]
  },
  {
   "cell_type": "code",
   "execution_count": 34,
   "metadata": {},
   "outputs": [
    {
     "data": {
      "text/plain": [
       "'bandwidth'"
      ]
     },
     "execution_count": 34,
     "metadata": {},
     "output_type": "execute_result"
    }
   ],
   "source": [
    "comparisons_to_make[1]['type']"
   ]
  },
  {
   "cell_type": "code",
   "execution_count": 36,
   "metadata": {},
   "outputs": [
    {
     "name": "stdout",
     "output_type": "stream",
     "text": [
      "centroid\n",
      "bandwidth\n",
      "rolloff\n",
      "tempo\n"
     ]
    }
   ],
   "source": [
    "for n in len(comparisons_to_make):\n",
    "    print(n['type'])"
   ]
  },
  {
   "cell_type": "code",
   "execution_count": null,
   "metadata": {},
   "outputs": [],
   "source": []
  }
 ],
 "metadata": {
  "kernelspec": {
   "display_name": "Python 3.10.6 ('native')",
   "language": "python",
   "name": "python3"
  },
  "language_info": {
   "codemirror_mode": {
    "name": "ipython",
    "version": 3
   },
   "file_extension": ".py",
   "mimetype": "text/x-python",
   "name": "python",
   "nbconvert_exporter": "python",
   "pygments_lexer": "ipython3",
   "version": "3.9.7"
  },
  "orig_nbformat": 4,
  "vscode": {
   "interpreter": {
    "hash": "020ba7361049cccc70dfa1a41868b11d1e5ce1d89e8ba6440b8f9cba528a020a"
   }
  }
 },
 "nbformat": 4,
 "nbformat_minor": 2
}
